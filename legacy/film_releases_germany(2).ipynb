{
 "cells": [
  {
   "cell_type": "markdown",
   "metadata": {},
   "source": [
    "# WEBSCRAPING MOVIE RELEASE DATES IN GERMANY"
   ]
  },
  {
   "cell_type": "markdown",
   "metadata": {},
   "source": [
    "### IMPORT LIBRARIES"
   ]
  },
  {
   "cell_type": "code",
   "execution_count": 1,
   "metadata": {},
   "outputs": [],
   "source": [
    "from bs4 import BeautifulSoup\n",
    "import requests\n",
    "import pandas as pd\n",
    "from pprint import pprint\n",
    "from lxml import html\n",
    "from lxml.html import fromstring\n",
    "import urllib.request\n",
    "from urllib.request import urlopen\n",
    "import random\n",
    "import re\n",
    "import time\n",
    "import subprocess\n",
    "from datetime import datetime\n",
    "import urllib.request\n",
    "import unidecode\n",
    "#import scrapy"
   ]
  },
  {
   "cell_type": "markdown",
   "metadata": {},
   "source": [
    "### SCRAPING TARGET"
   ]
  },
  {
   "cell_type": "code",
   "execution_count": 2,
   "metadata": {},
   "outputs": [],
   "source": [
    "#URL KINO-ZEIT.DE CINEMA PROGRAM\n",
    "url='https://www.kino-zeit.de/filme/filmstarts/aktuell'"
   ]
  },
  {
   "cell_type": "markdown",
   "metadata": {},
   "source": [
    "### SETTING SCOPE\n",
    "In Germany theatrical releases are typically on Thursdays.\n",
    "Setting 'weeks' to 1 will return last Thursdays theatrical releases.\n",
    "Setting 'weeks' to 2 will return last Thursdays and upcoming Thursday's theatrical releases."
   ]
  },
  {
   "cell_type": "code",
   "execution_count": 3,
   "metadata": {},
   "outputs": [
    {
     "name": "stdout",
     "output_type": "stream",
     "text": [
      "How many upcoming weeks would you like to scrape at kino-zeit.de\n",
      "---\n",
      "5\n"
     ]
    }
   ],
   "source": [
    "#CHOOSING NUMBER OF UPCOMING WEEKS TO SCRAPE\n",
    "print('How many upcoming weeks would you like to scrape at kino-zeit.de\\n---')\n",
    "weeks=int(input())"
   ]
  },
  {
   "cell_type": "markdown",
   "metadata": {},
   "source": [
    "### FUNCTIONS"
   ]
  },
  {
   "cell_type": "code",
   "execution_count": 4,
   "metadata": {},
   "outputs": [],
   "source": [
    "#FUNCTION TO TURN URL INTO HTML\n",
    "def make_soup(url):\n",
    "    html=requests.get(url).content\n",
    "    return BeautifulSoup(html,'html.parser')\n",
    "\n",
    "#FUNCTION CREATING THE URL TO FLIP TO NEXT WEEKS PAGE\n",
    "def next_url(soup):\n",
    "    url=''.join([f'https://www.kino-zeit.de/filme/filmstarts/{i[\"href\"]}' for i in soup.find_all(\"a\",{\"class\": \"next btn btn-primary\"})])\n",
    "    return url\n",
    "\n",
    "#FUNCTION FLIPPING THROUGH THE WEEKLY OVERVIEWS\n",
    "#Picking film titles, start dates and the film's detail page\n",
    "def how_much_soup(url, weeks):\n",
    "    df_loop=pd.DataFrame(columns=['start','film','director','actor','link','image','distro','country','trailer'])\n",
    "    lst_start=[]\n",
    "    lst_film=[]\n",
    "    lst_link=[]\n",
    "\n",
    "    for x in range(weeks): #for the number of weeks we are browsing\n",
    "        \n",
    "        soup= make_soup(url)\n",
    "        lst_film.append([i.text for i in soup.find_all(['h3','a'],{'class': 'filmlink'})])\n",
    "        lst_start.append([i.text for i in soup.find_all('div',{'class':'col-md-2 infospalte-1'})])\n",
    "        lst_start=re.findall(r'\\d\\d.\\d\\d.\\d\\d\\d\\d', str(lst_start))\n",
    "        lst_link.append([f'https://www.kino-zeit.de{i[\"href\"]}' for i in soup.find_all([\"h3\",\"a\"],{\"class\": \"filmlink\"})])\n",
    "        url=next_url(soup) #calling the function for the url we flip to for the following week\n",
    "    \n",
    "    lst_film=[i for sublst in lst_film for i in sublst]\n",
    "    df_loop['film']=lst_film\n",
    "    df_loop['year']=df_loop['film'].str.findall('\\d\\d\\d\\d')\n",
    "    df_loop['year']=df_loop['year'].apply(listToString)\n",
    "    #df_loop['start']=lst_start\n",
    "    lst_start=[datetime.strptime(i,'%d.%m.%Y') for i in lst_start]\n",
    "    df_loop['start']=lst_start\n",
    "    lst_link= [i for sublst in lst_link for i in sublst]\n",
    "    df_loop['link']=lst_link\n",
    "    return (df_loop)"
   ]
  },
  {
   "cell_type": "code",
   "execution_count": 5,
   "metadata": {},
   "outputs": [],
   "source": [
    "# FUNCTION TO TURN LIST TO STRING\n",
    "#NEEDED FOR CLEANING UP ACTORS' COLUMN\n",
    "def listToString(s):  \n",
    "    \n",
    "    # initialize an empty string \n",
    "    str1 = \" \" \n",
    "    \n",
    "    # return string   \n",
    "    return (str1.join(s)) "
   ]
  },
  {
   "cell_type": "code",
   "execution_count": 6,
   "metadata": {},
   "outputs": [],
   "source": [
    "#FUNCTION GETTING INFOR FORM FILM DETAIL PAGES\n",
    "def filmdetails(df, link):\n",
    "    #CREATING OVERVIEW\n",
    "    regie_list=[]\n",
    "    darsteller_list=[]\n",
    "    list_img_url=[]\n",
    "    list_verleih=[]\n",
    "    list_prodland=[]\n",
    "    \n",
    "    #BROWSING THE FILMS' INDIVIDUAL PAGES FOR FURTHER DETAILS \n",
    "    for i in link:\n",
    "        sub_page=make_soup(i)\n",
    "        regie=[i.text.replace('\\nRegie','').replace('\\n\\n','').split(',') for i in sub_page.find_all('div',{'class':'field field--name-field-regie field--type-entity-reference field--label-above'})]\n",
    "        regie_list.append(regie[0])\n",
    "        darsteller=[i.text.replace('\\nDarsteller','').split('\\n') for i in sub_page.find_all('div',{'class':'field field--name-field-hauptdarsteller field--type-entity-reference field--label-above'})]\n",
    "        darsteller_list.append(darsteller)\n",
    "        img_url=[i['data-big'].split('?') for i in sub_page.find_all('img',{'id':'headerbildbig'})]\n",
    "        list_img_url.append(i[0] for i in img_url)\n",
    "        verleih=[i.text.replace('\\nFilmverleih','').replace('\\n\\n','') for i in sub_page.find_all(['div','a'],{'class':'field field--name-field-distribution-film field--type-entity-reference field--label-above'})]\n",
    "        list_verleih.append(verleih)\n",
    "        prodland=[i.text.replace('\\nProduktionsland','').replace('\\n\\n','') for i in sub_page.find_all(['div','a'],{'class':'field field--name-field-produktionsland field--type-entity-reference field--label-above'})]\n",
    "        list_prodland.append(prodland)\n",
    "\n",
    "    #FILLING THE DATAFRAME WITH THOSE NEW DATA\n",
    "    df['director']=regie_list\n",
    "    df['actor']=darsteller_list\n",
    "    df['image']=list_img_url\n",
    "    df['distro']=list_verleih\n",
    "    df['country']=list_prodland\n",
    "    \n",
    "    #CLEAN ACTORS COLUMN\n",
    "    a=[]\n",
    "    for i in range(len(df.actor)):\n",
    "        if len(df['actor'].loc[i])==2:\n",
    "            a.append(list(filter(None,df.actor[i][0])))\n",
    "        else:\n",
    "            a.append([''])\n",
    "        \n",
    "    df['actor']=a\n",
    "    df['actor']=df['actor'].apply(listToString)\n",
    "\n",
    "    #TURN LISTS INTO STRINGS TO CLEAN THEM UP\n",
    "    for i in range(len(df)):\n",
    "        \n",
    "        df['film']=df['film'].str.replace('\\(\\d\\d\\d\\d\\)','')\n",
    "        df['country'][i]=''.join(df['country'][i]).replace('\\n',', ')\n",
    "        df['director'][i]=', '.join(df['director'][i]).replace('\\n',', ')\n",
    "        df['image'][i]=''.join(df['image'][i])\n",
    "        df['distro'][i]=''.join(df['distro'][i]).replace('\\n',', ')\n",
    "    return df"
   ]
  },
  {
   "cell_type": "code",
   "execution_count": 7,
   "metadata": {},
   "outputs": [
    {
     "data": {
      "text/plain": [
       "\"def remove_odd_characters(string):\\n    \\n    u = 'ü'.encode()\\n    U = 'Ü'.encode()\\n    a = 'ä'.encode()\\n    A = 'Ä'.encode()\\n    o = 'ö'.encode()\\n    O = 'Ö'.encode()\\n    ss = 'ß'.encode()\\n    e = 'é' .encode()\\n    e = 'è' .encode()\\n\\n    string = string.encode()\\n    string = string.replace(u, b'ue')\\n    string = string.replace(U, b'Ue')\\n    string = string.replace(a, b'ae')\\n    string = string.replace(A, b'Ae')\\n    string = string.replace(o, b'oe')\\n    string = string.replace(O, b'Oe')\\n    string = string.replace(ss, b'ss')\\n    string = string.replace(e, b'e')\\n\\n    string = string.decode('utf-8')\\n    return string\""
      ]
     },
     "execution_count": 7,
     "metadata": {},
     "output_type": "execute_result"
    }
   ],
   "source": [
    "### DEALING WITH UMLAUT CHARACTERS\n",
    "### CURRENTLY NOT IN USE\n",
    "\"\"\"def remove_odd_characters(string):\n",
    "    \n",
    "    u = 'ü'.encode()\n",
    "    U = 'Ü'.encode()\n",
    "    a = 'ä'.encode()\n",
    "    A = 'Ä'.encode()\n",
    "    o = 'ö'.encode()\n",
    "    O = 'Ö'.encode()\n",
    "    ss = 'ß'.encode()\n",
    "    e = 'é' .encode()\n",
    "    e = 'è' .encode()\n",
    "\n",
    "    string = string.encode()\n",
    "    string = string.replace(u, b'ue')\n",
    "    string = string.replace(U, b'Ue')\n",
    "    string = string.replace(a, b'ae')\n",
    "    string = string.replace(A, b'Ae')\n",
    "    string = string.replace(o, b'oe')\n",
    "    string = string.replace(O, b'Oe')\n",
    "    string = string.replace(ss, b'ss')\n",
    "    string = string.replace(e, b'e')\n",
    "\n",
    "    string = string.decode('utf-8')\n",
    "    return string\"\"\""
   ]
  },
  {
   "cell_type": "code",
   "execution_count": 8,
   "metadata": {},
   "outputs": [],
   "source": [
    "### DEALING WITH FOREIGN LANGUAGE CHARACTERS\n",
    "\n",
    "def recoding_string (df):\n",
    "    trailer_list=[]\n",
    "    for i in range(len(df)):\n",
    "        search= f\"{df['film'][i].replace(' ','_')}_trailer_{df['distro'][i].replace(' ','_')}\"\n",
    "        #search=remove_odd_characters(search) --- calls function remove umlaut\n",
    "        search=unidecode.unidecode(search) # dealing with foreign language letters so we can include them in youtube search URL\n",
    "        print(search)\n",
    "        html = urllib.request.urlopen(f\"https://www.youtube.com/results?search_query={search}\")\n",
    "        video_ids = re.findall(r\"watch\\?v=(\\S{11})\", html.read().decode())\n",
    "        if video_ids == []:\n",
    "            trailer_list.append('no trailer found')\n",
    "        else:\n",
    "            youtube_url= f'https://youtu.be/{video_ids[0]}'\n",
    "            trailer_list.append(youtube_url)\n",
    "    return trailer_list"
   ]
  },
  {
   "cell_type": "markdown",
   "metadata": {},
   "source": [
    "# START PROGRAM"
   ]
  },
  {
   "cell_type": "code",
   "execution_count": 9,
   "metadata": {},
   "outputs": [
    {
     "data": {
      "text/html": [
       "<div>\n",
       "<style scoped>\n",
       "    .dataframe tbody tr th:only-of-type {\n",
       "        vertical-align: middle;\n",
       "    }\n",
       "\n",
       "    .dataframe tbody tr th {\n",
       "        vertical-align: top;\n",
       "    }\n",
       "\n",
       "    .dataframe thead th {\n",
       "        text-align: right;\n",
       "    }\n",
       "</style>\n",
       "<table border=\"1\" class=\"dataframe\">\n",
       "  <thead>\n",
       "    <tr style=\"text-align: right;\">\n",
       "      <th></th>\n",
       "      <th>start</th>\n",
       "      <th>film</th>\n",
       "      <th>director</th>\n",
       "      <th>actor</th>\n",
       "      <th>link</th>\n",
       "      <th>image</th>\n",
       "      <th>distro</th>\n",
       "      <th>country</th>\n",
       "      <th>trailer</th>\n",
       "      <th>year</th>\n",
       "    </tr>\n",
       "  </thead>\n",
       "  <tbody>\n",
       "    <tr>\n",
       "      <th>0</th>\n",
       "      <td>2021-11-04</td>\n",
       "      <td>1982 Neunzehnhundertzweiundachtzig (2019)</td>\n",
       "      <td>NaN</td>\n",
       "      <td>NaN</td>\n",
       "      <td>https://www.kino-zeit.de/node/52865</td>\n",
       "      <td>NaN</td>\n",
       "      <td>NaN</td>\n",
       "      <td>NaN</td>\n",
       "      <td>NaN</td>\n",
       "      <td>1982 2019</td>\n",
       "    </tr>\n",
       "    <tr>\n",
       "      <th>1</th>\n",
       "      <td>2021-11-04</td>\n",
       "      <td>A Dark Song (2016)</td>\n",
       "      <td>NaN</td>\n",
       "      <td>NaN</td>\n",
       "      <td>https://www.kino-zeit.de/node/52778</td>\n",
       "      <td>NaN</td>\n",
       "      <td>NaN</td>\n",
       "      <td>NaN</td>\n",
       "      <td>NaN</td>\n",
       "      <td>2016</td>\n",
       "    </tr>\n",
       "    <tr>\n",
       "      <th>2</th>\n",
       "      <td>2021-11-04</td>\n",
       "      <td>Ammonite (2020)</td>\n",
       "      <td>NaN</td>\n",
       "      <td>NaN</td>\n",
       "      <td>https://www.kino-zeit.de/node/49449</td>\n",
       "      <td>NaN</td>\n",
       "      <td>NaN</td>\n",
       "      <td>NaN</td>\n",
       "      <td>NaN</td>\n",
       "      <td>2020</td>\n",
       "    </tr>\n",
       "    <tr>\n",
       "      <th>3</th>\n",
       "      <td>2021-11-04</td>\n",
       "      <td>Bergman Island (2021)</td>\n",
       "      <td>NaN</td>\n",
       "      <td>NaN</td>\n",
       "      <td>https://www.kino-zeit.de/node/44759</td>\n",
       "      <td>NaN</td>\n",
       "      <td>NaN</td>\n",
       "      <td>NaN</td>\n",
       "      <td>NaN</td>\n",
       "      <td>2021</td>\n",
       "    </tr>\n",
       "    <tr>\n",
       "      <th>4</th>\n",
       "      <td>2021-11-04</td>\n",
       "      <td>Bloom up - Hautnah (2021)</td>\n",
       "      <td>NaN</td>\n",
       "      <td>NaN</td>\n",
       "      <td>https://www.kino-zeit.de/node/53367</td>\n",
       "      <td>NaN</td>\n",
       "      <td>NaN</td>\n",
       "      <td>NaN</td>\n",
       "      <td>NaN</td>\n",
       "      <td>2021</td>\n",
       "    </tr>\n",
       "    <tr>\n",
       "      <th>...</th>\n",
       "      <td>...</td>\n",
       "      <td>...</td>\n",
       "      <td>...</td>\n",
       "      <td>...</td>\n",
       "      <td>...</td>\n",
       "      <td>...</td>\n",
       "      <td>...</td>\n",
       "      <td>...</td>\n",
       "      <td>...</td>\n",
       "      <td>...</td>\n",
       "    </tr>\n",
       "    <tr>\n",
       "      <th>86</th>\n",
       "      <td>2021-12-02</td>\n",
       "      <td>Gunpowder Milkshake (2019)</td>\n",
       "      <td>NaN</td>\n",
       "      <td>NaN</td>\n",
       "      <td>https://www.kino-zeit.de/node/51136</td>\n",
       "      <td>NaN</td>\n",
       "      <td>NaN</td>\n",
       "      <td>NaN</td>\n",
       "      <td>NaN</td>\n",
       "      <td>2019</td>\n",
       "    </tr>\n",
       "    <tr>\n",
       "      <th>87</th>\n",
       "      <td>2021-12-02</td>\n",
       "      <td>House of Gucci (2021)</td>\n",
       "      <td>NaN</td>\n",
       "      <td>NaN</td>\n",
       "      <td>https://www.kino-zeit.de/node/51978</td>\n",
       "      <td>NaN</td>\n",
       "      <td>NaN</td>\n",
       "      <td>NaN</td>\n",
       "      <td>NaN</td>\n",
       "      <td>2021</td>\n",
       "    </tr>\n",
       "    <tr>\n",
       "      <th>88</th>\n",
       "      <td>2021-12-02</td>\n",
       "      <td>Plötzlich aufs Land - Eine Tierärztin im Burgu...</td>\n",
       "      <td>NaN</td>\n",
       "      <td>NaN</td>\n",
       "      <td>https://www.kino-zeit.de/node/52261</td>\n",
       "      <td>NaN</td>\n",
       "      <td>NaN</td>\n",
       "      <td>NaN</td>\n",
       "      <td>NaN</td>\n",
       "      <td>2019</td>\n",
       "    </tr>\n",
       "    <tr>\n",
       "      <th>89</th>\n",
       "      <td>2021-12-02</td>\n",
       "      <td>Vater - Otac (2020)</td>\n",
       "      <td>NaN</td>\n",
       "      <td>NaN</td>\n",
       "      <td>https://www.kino-zeit.de/node/50368</td>\n",
       "      <td>NaN</td>\n",
       "      <td>NaN</td>\n",
       "      <td>NaN</td>\n",
       "      <td>NaN</td>\n",
       "      <td>2020</td>\n",
       "    </tr>\n",
       "    <tr>\n",
       "      <th>90</th>\n",
       "      <td>2021-12-02</td>\n",
       "      <td>Weihnachten im Zaubereulenwald (2018)</td>\n",
       "      <td>NaN</td>\n",
       "      <td>NaN</td>\n",
       "      <td>https://www.kino-zeit.de/node/50613</td>\n",
       "      <td>NaN</td>\n",
       "      <td>NaN</td>\n",
       "      <td>NaN</td>\n",
       "      <td>NaN</td>\n",
       "      <td>2018</td>\n",
       "    </tr>\n",
       "  </tbody>\n",
       "</table>\n",
       "<p>91 rows × 10 columns</p>\n",
       "</div>"
      ],
      "text/plain": [
       "        start                                               film director  \\\n",
       "0  2021-11-04          1982 Neunzehnhundertzweiundachtzig (2019)      NaN   \n",
       "1  2021-11-04                                 A Dark Song (2016)      NaN   \n",
       "2  2021-11-04                                    Ammonite (2020)      NaN   \n",
       "3  2021-11-04                              Bergman Island (2021)      NaN   \n",
       "4  2021-11-04                          Bloom up - Hautnah (2021)      NaN   \n",
       "..        ...                                                ...      ...   \n",
       "86 2021-12-02                         Gunpowder Milkshake (2019)      NaN   \n",
       "87 2021-12-02                              House of Gucci (2021)      NaN   \n",
       "88 2021-12-02  Plötzlich aufs Land - Eine Tierärztin im Burgu...      NaN   \n",
       "89 2021-12-02                                Vater - Otac (2020)      NaN   \n",
       "90 2021-12-02              Weihnachten im Zaubereulenwald (2018)      NaN   \n",
       "\n",
       "   actor                                 link image distro country trailer  \\\n",
       "0    NaN  https://www.kino-zeit.de/node/52865   NaN    NaN     NaN     NaN   \n",
       "1    NaN  https://www.kino-zeit.de/node/52778   NaN    NaN     NaN     NaN   \n",
       "2    NaN  https://www.kino-zeit.de/node/49449   NaN    NaN     NaN     NaN   \n",
       "3    NaN  https://www.kino-zeit.de/node/44759   NaN    NaN     NaN     NaN   \n",
       "4    NaN  https://www.kino-zeit.de/node/53367   NaN    NaN     NaN     NaN   \n",
       "..   ...                                  ...   ...    ...     ...     ...   \n",
       "86   NaN  https://www.kino-zeit.de/node/51136   NaN    NaN     NaN     NaN   \n",
       "87   NaN  https://www.kino-zeit.de/node/51978   NaN    NaN     NaN     NaN   \n",
       "88   NaN  https://www.kino-zeit.de/node/52261   NaN    NaN     NaN     NaN   \n",
       "89   NaN  https://www.kino-zeit.de/node/50368   NaN    NaN     NaN     NaN   \n",
       "90   NaN  https://www.kino-zeit.de/node/50613   NaN    NaN     NaN     NaN   \n",
       "\n",
       "         year  \n",
       "0   1982 2019  \n",
       "1        2016  \n",
       "2        2020  \n",
       "3        2021  \n",
       "4        2021  \n",
       "..        ...  \n",
       "86       2019  \n",
       "87       2021  \n",
       "88       2019  \n",
       "89       2020  \n",
       "90       2018  \n",
       "\n",
       "[91 rows x 10 columns]"
      ]
     },
     "execution_count": 9,
     "metadata": {},
     "output_type": "execute_result"
    }
   ],
   "source": [
    "#CALL FUNCTION FILM OVERVIEW\n",
    "df=how_much_soup(url, weeks)\n",
    "df\n"
   ]
  },
  {
   "cell_type": "code",
   "execution_count": 10,
   "metadata": {
    "scrolled": true
   },
   "outputs": [
    {
     "ename": "IndexError",
     "evalue": "list index out of range",
     "output_type": "error",
     "traceback": [
      "\u001b[0;31m---------------------------------------------------------------------------\u001b[0m",
      "\u001b[0;31mIndexError\u001b[0m                                Traceback (most recent call last)",
      "\u001b[0;32m<ipython-input-10-15fb81063534>\u001b[0m in \u001b[0;36m<module>\u001b[0;34m\u001b[0m\n\u001b[1;32m      1\u001b[0m \u001b[0;31m#CALL FUNCTION FILM DETAILS\u001b[0m\u001b[0;34m\u001b[0m\u001b[0;34m\u001b[0m\u001b[0;34m\u001b[0m\u001b[0m\n\u001b[0;32m----> 2\u001b[0;31m \u001b[0mdf\u001b[0m\u001b[0;34m=\u001b[0m\u001b[0mfilmdetails\u001b[0m\u001b[0;34m(\u001b[0m\u001b[0mdf\u001b[0m\u001b[0;34m,\u001b[0m \u001b[0mdf\u001b[0m\u001b[0;34m[\u001b[0m\u001b[0;34m'link'\u001b[0m\u001b[0;34m]\u001b[0m\u001b[0;34m)\u001b[0m\u001b[0;34m\u001b[0m\u001b[0;34m\u001b[0m\u001b[0m\n\u001b[0m\u001b[1;32m      3\u001b[0m \u001b[0mdf\u001b[0m\u001b[0;34m\u001b[0m\u001b[0;34m\u001b[0m\u001b[0m\n",
      "\u001b[0;32m<ipython-input-6-9c7453086221>\u001b[0m in \u001b[0;36mfilmdetails\u001b[0;34m(df, link)\u001b[0m\n\u001b[1;32m     12\u001b[0m         \u001b[0msub_page\u001b[0m\u001b[0;34m=\u001b[0m\u001b[0mmake_soup\u001b[0m\u001b[0;34m(\u001b[0m\u001b[0mi\u001b[0m\u001b[0;34m)\u001b[0m\u001b[0;34m\u001b[0m\u001b[0;34m\u001b[0m\u001b[0m\n\u001b[1;32m     13\u001b[0m         \u001b[0mregie\u001b[0m\u001b[0;34m=\u001b[0m\u001b[0;34m[\u001b[0m\u001b[0mi\u001b[0m\u001b[0;34m.\u001b[0m\u001b[0mtext\u001b[0m\u001b[0;34m.\u001b[0m\u001b[0mreplace\u001b[0m\u001b[0;34m(\u001b[0m\u001b[0;34m'\\nRegie'\u001b[0m\u001b[0;34m,\u001b[0m\u001b[0;34m''\u001b[0m\u001b[0;34m)\u001b[0m\u001b[0;34m.\u001b[0m\u001b[0mreplace\u001b[0m\u001b[0;34m(\u001b[0m\u001b[0;34m'\\n\\n'\u001b[0m\u001b[0;34m,\u001b[0m\u001b[0;34m''\u001b[0m\u001b[0;34m)\u001b[0m\u001b[0;34m.\u001b[0m\u001b[0msplit\u001b[0m\u001b[0;34m(\u001b[0m\u001b[0;34m','\u001b[0m\u001b[0;34m)\u001b[0m \u001b[0;32mfor\u001b[0m \u001b[0mi\u001b[0m \u001b[0;32min\u001b[0m \u001b[0msub_page\u001b[0m\u001b[0;34m.\u001b[0m\u001b[0mfind_all\u001b[0m\u001b[0;34m(\u001b[0m\u001b[0;34m'div'\u001b[0m\u001b[0;34m,\u001b[0m\u001b[0;34m{\u001b[0m\u001b[0;34m'class'\u001b[0m\u001b[0;34m:\u001b[0m\u001b[0;34m'field field--name-field-regie field--type-entity-reference field--label-above'\u001b[0m\u001b[0;34m}\u001b[0m\u001b[0;34m)\u001b[0m\u001b[0;34m]\u001b[0m\u001b[0;34m\u001b[0m\u001b[0;34m\u001b[0m\u001b[0m\n\u001b[0;32m---> 14\u001b[0;31m         \u001b[0mregie_list\u001b[0m\u001b[0;34m.\u001b[0m\u001b[0mappend\u001b[0m\u001b[0;34m(\u001b[0m\u001b[0mregie\u001b[0m\u001b[0;34m[\u001b[0m\u001b[0;36m0\u001b[0m\u001b[0;34m]\u001b[0m\u001b[0;34m)\u001b[0m\u001b[0;34m\u001b[0m\u001b[0;34m\u001b[0m\u001b[0m\n\u001b[0m\u001b[1;32m     15\u001b[0m         \u001b[0mdarsteller\u001b[0m\u001b[0;34m=\u001b[0m\u001b[0;34m[\u001b[0m\u001b[0mi\u001b[0m\u001b[0;34m.\u001b[0m\u001b[0mtext\u001b[0m\u001b[0;34m.\u001b[0m\u001b[0mreplace\u001b[0m\u001b[0;34m(\u001b[0m\u001b[0;34m'\\nDarsteller'\u001b[0m\u001b[0;34m,\u001b[0m\u001b[0;34m''\u001b[0m\u001b[0;34m)\u001b[0m\u001b[0;34m.\u001b[0m\u001b[0msplit\u001b[0m\u001b[0;34m(\u001b[0m\u001b[0;34m'\\n'\u001b[0m\u001b[0;34m)\u001b[0m \u001b[0;32mfor\u001b[0m \u001b[0mi\u001b[0m \u001b[0;32min\u001b[0m \u001b[0msub_page\u001b[0m\u001b[0;34m.\u001b[0m\u001b[0mfind_all\u001b[0m\u001b[0;34m(\u001b[0m\u001b[0;34m'div'\u001b[0m\u001b[0;34m,\u001b[0m\u001b[0;34m{\u001b[0m\u001b[0;34m'class'\u001b[0m\u001b[0;34m:\u001b[0m\u001b[0;34m'field field--name-field-hauptdarsteller field--type-entity-reference field--label-above'\u001b[0m\u001b[0;34m}\u001b[0m\u001b[0;34m)\u001b[0m\u001b[0;34m]\u001b[0m\u001b[0;34m\u001b[0m\u001b[0;34m\u001b[0m\u001b[0m\n\u001b[1;32m     16\u001b[0m         \u001b[0mdarsteller_list\u001b[0m\u001b[0;34m.\u001b[0m\u001b[0mappend\u001b[0m\u001b[0;34m(\u001b[0m\u001b[0mdarsteller\u001b[0m\u001b[0;34m)\u001b[0m\u001b[0;34m\u001b[0m\u001b[0;34m\u001b[0m\u001b[0m\n",
      "\u001b[0;31mIndexError\u001b[0m: list index out of range"
     ]
    }
   ],
   "source": [
    "#CALL FUNCTION FILM DETAILS\n",
    "df=filmdetails(df, df['link'])\n",
    "df"
   ]
  },
  {
   "cell_type": "code",
   "execution_count": null,
   "metadata": {},
   "outputs": [],
   "source": [
    "df['trailer']=recoding_string(df)"
   ]
  },
  {
   "cell_type": "code",
   "execution_count": null,
   "metadata": {},
   "outputs": [],
   "source": [
    "df"
   ]
  },
  {
   "cell_type": "markdown",
   "metadata": {},
   "source": [
    "### Subsetting \n",
    "films with production country 'Deutschland' and after a certain date"
   ]
  },
  {
   "cell_type": "code",
   "execution_count": null,
   "metadata": {},
   "outputs": [],
   "source": [
    "df=df[(df['country'].str.contains('Deutschland'))&(df['start']>'2020-11-05')]\n"
   ]
  },
  {
   "cell_type": "markdown",
   "metadata": {},
   "source": [
    "## EXPORT EXCEL + CSV  WITH TIMESTAMP"
   ]
  },
  {
   "cell_type": "code",
   "execution_count": null,
   "metadata": {},
   "outputs": [],
   "source": [
    "timestr = time.strftime(\"%Y%m%d\")\n",
    "df.to_csv(f'exported_files/Filmstarts_{timestr}.csv')\n",
    "df.to_excel(f'exported_files/Filmstarts_{timestr}.xlsx')"
   ]
  },
  {
   "cell_type": "markdown",
   "metadata": {},
   "source": [
    "### Option download images"
   ]
  },
  {
   "cell_type": "code",
   "execution_count": null,
   "metadata": {},
   "outputs": [],
   "source": [
    "#def img_download(filmtitle, url):\n",
    "for i in range(len(df)):\n",
    "    response = requests.get(df.iloc[i][5])\n",
    "    file = open(f'exported_files/{df.iloc[i][1]}.jpg', 'wb')\n",
    "    file.write(response.content)\n",
    "    file.close()"
   ]
  },
  {
   "cell_type": "markdown",
   "metadata": {},
   "source": [
    "### Option to have resulting Excel sent by email"
   ]
  },
  {
   "cell_type": "code",
   "execution_count": null,
   "metadata": {},
   "outputs": [],
   "source": [
    "import os\n",
    "import smtplib\n",
    "from email.message import EmailMessage\n",
    "\n",
    "email_address=os.environ.get('email_user')\n",
    "email_password=os.environ.get('email_pass')\n",
    "smtp_ssl_host=os.environ.get('DFA_mailserver')\n",
    "smtp_ssl_port = 465\n",
    "\n",
    "msg= EmailMessage()\n",
    "msg['Subject']= 'Filmstarts sind exportiert! - dein bot'\n",
    "msg['From']=email_address\n",
    "msg['To']='coyew69768@95ta.com'\n",
    "msg.set_content('Hallo, hallo, \\n\\nHier ein Mailtest aus Jupyter Notebook.\\n\\nDas Excel mit den aktuellen Filmstarts ist anbei. Gefiltert nach Filmen mit Produktionsland Deutschland. Und Filmstart nach dem 5.November. Die Fotos sind in der Mediathek\\n\\nschöne Grüße dein Python Bot!')\n",
    "\n",
    "with open(f'exported_files/Filmstarts_{timestr}.xlsx', 'rb') as attachment:\n",
    "    file=attachment.read()\n",
    "\n",
    "msg.add_attachment(file,maintype='Excel',subtype='xlsx', filename=f'Filmstarts_{timestr}.xlsx')\n",
    "\n",
    "with smtplib.SMTP_SSL(smtp_ssl_host, smtp_ssl_port) as server:\n",
    "    server.login(email_address, email_password)\n",
    "    server.send_message(msg)\n",
    "    server.quit()"
   ]
  },
  {
   "cell_type": "markdown",
   "metadata": {},
   "source": [
    "### RINGS BELL WHEN SCRIPT FINISHED"
   ]
  },
  {
   "cell_type": "code",
   "execution_count": null,
   "metadata": {},
   "outputs": [],
   "source": [
    "#RINGS THE BELL WHEN SCRIPT IS DONE\n",
    "audio_file = \"service-bell.mp3\"\n",
    "return_code = subprocess.call([\"afplay\", audio_file])"
   ]
  },
  {
   "cell_type": "code",
   "execution_count": null,
   "metadata": {},
   "outputs": [],
   "source": [
    "\"\"\"\n",
    "a=[]\n",
    "for i in range(len(df.actor)):\n",
    "        if len(df['actor'].loc[i])==2:\n",
    "            a.append(list(filter(None,df.actor[i][0])))\n",
    "        else:\n",
    "           a.append([''])\n",
    "df['actor_test']=a\n",
    "#df['actor_test']=listToString(list(df['actor_test']))\n",
    "df['actor_test']=df['actor_test'].apply(listToString)\n",
    "df\n",
    "\"\"\""
   ]
  },
  {
   "cell_type": "code",
   "execution_count": null,
   "metadata": {},
   "outputs": [],
   "source": []
  }
 ],
 "metadata": {
  "kernelspec": {
   "display_name": "Python 3",
   "language": "python",
   "name": "python3"
  },
  "language_info": {
   "codemirror_mode": {
    "name": "ipython",
    "version": 3
   },
   "file_extension": ".py",
   "mimetype": "text/x-python",
   "name": "python",
   "nbconvert_exporter": "python",
   "pygments_lexer": "ipython3",
   "version": "3.8.5"
  }
 },
 "nbformat": 4,
 "nbformat_minor": 4
}
